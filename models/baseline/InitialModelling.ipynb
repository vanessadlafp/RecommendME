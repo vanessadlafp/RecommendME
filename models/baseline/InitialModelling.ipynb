{
 "cells": [
  {
   "cell_type": "markdown",
   "metadata": {},
   "source": [
    "# Store Recommendation System: Content-Based & Collaborative Filtering\n",
    "\n",
    "In this notebook, we will develop a store recommendation system that uses **Content-Based Filtering** and **Collaborative Filtering** techniques. We will start by encoding thrift store features such as categories and geolocation and then build a model that recommends thrift stores to users.\n",
    "\n",
    "## Table of Contents\n",
    "1. [Content-Based Filtering](#content-based-filtering)\n",
    "    - Convert store categories and geolocation into text representation\n",
    "    - Use TF-IDF to encode store features\n",
    "    - Compute cosine similarity to find the most similar stores\n",
    "2. [Collaborative Filtering](#collaborative-filtering)\n",
    "    - Create a user-store interaction matrix\n",
    "    - Apply Singular Value Decomposition (SVD) for dimensionality reduction\n",
    "    - Predict missing values in the user-store matrix\n",
    "    - Recommend top unvisited stores based on predicted scores\n"
   ]
  },
  {
   "cell_type": "code",
   "execution_count": 1,
   "metadata": {},
   "outputs": [],
   "source": [
    "import pandas as pd\n",
    "import numpy as np\n",
    "import hashlib\n",
    "\n",
    "from sklearn.metrics.pairwise import cosine_similarity\n",
    "from sklearn.feature_extraction.text import TfidfVectorizer\n",
    "from scipy.sparse.linalg import svds\n",
    "\n",
    "import warnings\n",
    "warnings.filterwarnings(\"ignore\")"
   ]
  },
  {
   "cell_type": "code",
   "execution_count": 2,
   "metadata": {},
   "outputs": [
    {
     "name": "stdout",
     "output_type": "stream",
     "text": [
      "(40, 9)\n",
      "(38, 4)\n"
     ]
    }
   ],
   "source": [
    "# Load data\n",
    "data = pd.read_csv('/Users/vanessafarias/RecommendME/data/processed/thrift_stores_mtl_preprocessed.csv')\n",
    "print(data.shape)\n",
    "\n",
    "reviews = pd.read_csv('/Users/vanessafarias/RecommendME/data/external/store_reviews.csv')\n",
    "print(reviews.shape)"
   ]
  },
  {
   "cell_type": "code",
   "execution_count": 3,
   "metadata": {},
   "outputs": [],
   "source": [
    "# Function to generate a unique Store ID\n",
    "def generate_store_id(store, neighborhood):\n",
    "    unique_string = f\"{store}_{neighborhood}\".lower().replace(\" \", \"_\")  # Normalize\n",
    "    store_id = hashlib.md5(unique_string.encode()).hexdigest()[:8]  # Short hash\n",
    "    return store_id"
   ]
  },
  {
   "cell_type": "code",
   "execution_count": 4,
   "metadata": {},
   "outputs": [
    {
     "data": {
      "text/html": [
       "<div>\n",
       "<style scoped>\n",
       "    .dataframe tbody tr th:only-of-type {\n",
       "        vertical-align: middle;\n",
       "    }\n",
       "\n",
       "    .dataframe tbody tr th {\n",
       "        vertical-align: top;\n",
       "    }\n",
       "\n",
       "    .dataframe thead th {\n",
       "        text-align: right;\n",
       "    }\n",
       "</style>\n",
       "<table border=\"1\" class=\"dataframe\">\n",
       "  <thead>\n",
       "    <tr style=\"text-align: right;\">\n",
       "      <th></th>\n",
       "      <th>category</th>\n",
       "      <th>store_name</th>\n",
       "      <th>neighborhood</th>\n",
       "      <th>latitude</th>\n",
       "      <th>longitude</th>\n",
       "      <th>store_id</th>\n",
       "    </tr>\n",
       "  </thead>\n",
       "  <tbody>\n",
       "    <tr>\n",
       "      <th>0</th>\n",
       "      <td>Hand-Picked Cool</td>\n",
       "      <td>Annex x LOCAL</td>\n",
       "      <td>Mile-End</td>\n",
       "      <td>45.524801</td>\n",
       "      <td>-73.597082</td>\n",
       "      <td>be11d139</td>\n",
       "    </tr>\n",
       "    <tr>\n",
       "      <th>1</th>\n",
       "      <td>Hand-Picked Cool</td>\n",
       "      <td>Ex-Voto</td>\n",
       "      <td>La Petite-Patrie</td>\n",
       "      <td>45.530786</td>\n",
       "      <td>-73.610191</td>\n",
       "      <td>c2c4bb8b</td>\n",
       "    </tr>\n",
       "    <tr>\n",
       "      <th>2</th>\n",
       "      <td>Hand-Picked Cool</td>\n",
       "      <td>LNF</td>\n",
       "      <td>Villeray–Saint-Michel–Parc-Extension</td>\n",
       "      <td>45.530093</td>\n",
       "      <td>-73.622396</td>\n",
       "      <td>1525264d</td>\n",
       "    </tr>\n",
       "  </tbody>\n",
       "</table>\n",
       "</div>"
      ],
      "text/plain": [
       "           category     store_name                          neighborhood  \\\n",
       "0  Hand-Picked Cool  Annex x LOCAL                              Mile-End   \n",
       "1  Hand-Picked Cool        Ex-Voto                      La Petite-Patrie   \n",
       "2  Hand-Picked Cool            LNF  Villeray–Saint-Michel–Parc-Extension   \n",
       "\n",
       "    latitude  longitude  store_id  \n",
       "0  45.524801 -73.597082  be11d139  \n",
       "1  45.530786 -73.610191  c2c4bb8b  \n",
       "2  45.530093 -73.622396  1525264d  "
      ]
     },
     "execution_count": 4,
     "metadata": {},
     "output_type": "execute_result"
    }
   ],
   "source": [
    "# Pre-processing \n",
    "# Leave relevant columns and rename \n",
    "data.rename(columns = {'section': 'category', 'name':'store_name'}, inplace = True)\n",
    "data.drop(['url', 'address', 'corrected_address', 'coordinates'], axis = 1, inplace = True)\n",
    "\n",
    "# Apply function to create Store ID\n",
    "data[\"store_id\"] = data.apply(lambda row: generate_store_id(row[\"store_name\"], row[\"neighborhood\"]), axis=1)\n",
    "data.head(3)"
   ]
  },
  {
   "cell_type": "code",
   "execution_count": 5,
   "metadata": {},
   "outputs": [],
   "source": [
    "reviews['store_name'] = reviews.store_name.replace('LNF (Les Nouvelles Friperies)', 'LNF')\\\n",
    "                                          .replace('Annex x LOCAL', 'Annex x LOCAL')\\\n",
    "                                          .replace('Ex-Voto Vintage', 'Ex-Voto')\n",
    "\n",
    "reviews.drop('address', axis = 1, inplace = True)"
   ]
  },
  {
   "cell_type": "code",
   "execution_count": 6,
   "metadata": {},
   "outputs": [
    {
     "data": {
      "text/html": [
       "<div>\n",
       "<style scoped>\n",
       "    .dataframe tbody tr th:only-of-type {\n",
       "        vertical-align: middle;\n",
       "    }\n",
       "\n",
       "    .dataframe tbody tr th {\n",
       "        vertical-align: top;\n",
       "    }\n",
       "\n",
       "    .dataframe thead th {\n",
       "        text-align: right;\n",
       "    }\n",
       "</style>\n",
       "<table border=\"1\" class=\"dataframe\">\n",
       "  <thead>\n",
       "    <tr style=\"text-align: right;\">\n",
       "      <th></th>\n",
       "      <th>category</th>\n",
       "      <th>store_name</th>\n",
       "      <th>neighborhood</th>\n",
       "      <th>latitude</th>\n",
       "      <th>longitude</th>\n",
       "      <th>store_id</th>\n",
       "      <th>star_rating</th>\n",
       "      <th>n_reviews</th>\n",
       "    </tr>\n",
       "  </thead>\n",
       "  <tbody>\n",
       "    <tr>\n",
       "      <th>0</th>\n",
       "      <td>Hand-Picked Cool</td>\n",
       "      <td>Annex x LOCAL</td>\n",
       "      <td>Mile-End</td>\n",
       "      <td>45.524801</td>\n",
       "      <td>-73.597082</td>\n",
       "      <td>be11d139</td>\n",
       "      <td>4.5</td>\n",
       "      <td>50</td>\n",
       "    </tr>\n",
       "    <tr>\n",
       "      <th>1</th>\n",
       "      <td>Hand-Picked Cool</td>\n",
       "      <td>Ex-Voto</td>\n",
       "      <td>La Petite-Patrie</td>\n",
       "      <td>45.530786</td>\n",
       "      <td>-73.610191</td>\n",
       "      <td>c2c4bb8b</td>\n",
       "      <td>4.8</td>\n",
       "      <td>25</td>\n",
       "    </tr>\n",
       "    <tr>\n",
       "      <th>2</th>\n",
       "      <td>Hand-Picked Cool</td>\n",
       "      <td>LNF</td>\n",
       "      <td>Villeray–Saint-Michel–Parc-Extension</td>\n",
       "      <td>45.530093</td>\n",
       "      <td>-73.622396</td>\n",
       "      <td>1525264d</td>\n",
       "      <td>4.6</td>\n",
       "      <td>40</td>\n",
       "    </tr>\n",
       "  </tbody>\n",
       "</table>\n",
       "</div>"
      ],
      "text/plain": [
       "           category     store_name                          neighborhood  \\\n",
       "0  Hand-Picked Cool  Annex x LOCAL                              Mile-End   \n",
       "1  Hand-Picked Cool        Ex-Voto                      La Petite-Patrie   \n",
       "2  Hand-Picked Cool            LNF  Villeray–Saint-Michel–Parc-Extension   \n",
       "\n",
       "    latitude  longitude  store_id  star_rating n_reviews  \n",
       "0  45.524801 -73.597082  be11d139          4.5        50  \n",
       "1  45.530786 -73.610191  c2c4bb8b          4.8        25  \n",
       "2  45.530093 -73.622396  1525264d          4.6        40  "
      ]
     },
     "execution_count": 6,
     "metadata": {},
     "output_type": "execute_result"
    }
   ],
   "source": [
    "reviewed_data = data.merge(reviews, on = 'store_name', how = 'left')\n",
    "reviewed_data.head(3)"
   ]
  },
  {
   "cell_type": "markdown",
   "metadata": {},
   "source": [
    "### 1. Content-Based Filtering (Similarity by Store Features)"
   ]
  },
  {
   "cell_type": "code",
   "execution_count": 7,
   "metadata": {},
   "outputs": [],
   "source": [
    "from sklearn.feature_extraction.text import TfidfVectorizer\n",
    "from sklearn.metrics.pairwise import cosine_similarity\n",
    "\n",
    "# Create text-based feature (category + neighborhood + rating)\n",
    "reviewed_data['features'] = reviewed_data[\"category\"] + \" \" + reviewed_data[\"neighborhood\"]+ \" \" + str(reviewed_data[\"star_rating\"])+ \" \" + str(reviewed_data[\"n_reviews\"])\n",
    "\n",
    "# Convert text into numerical features using TF-IDF\n",
    "vectorizer = TfidfVectorizer()\n",
    "tfidf_matrix = vectorizer.fit_transform(reviewed_data[\"features\"])\n",
    "\n",
    "# Compute cosine similarity\n",
    "similarity_matrix = cosine_similarity(tfidf_matrix, tfidf_matrix)\n",
    "\n",
    "# Function to recommend similar stores\n",
    "def recommend_similar_stores(df, store_name, top_n=3):\n",
    "    if store_name not in df[\"store_name\"].values:\n",
    "        return \"Store not found.\"\n",
    "    \n",
    "    # Get store index\n",
    "    store_index = df[df[\"store_name\"] == store_name].index[0]\n",
    "    \n",
    "    # Get similarity scores\n",
    "    similarity_scores = list(enumerate(similarity_matrix[store_index]))\n",
    "    \n",
    "    # Sort by similarity\n",
    "    similar_stores = sorted(similarity_scores, key=lambda x: x[1], reverse=True)[1:top_n+1]\n",
    "    \n",
    "    # Get store names\n",
    "    recommended_stores = [df.iloc[i[0]][\"store_name\"] for i in similar_stores]\n",
    "    \n",
    "    return recommended_stores\n"
   ]
  },
  {
   "cell_type": "code",
   "execution_count": 8,
   "metadata": {},
   "outputs": [
    {
     "name": "stdout",
     "output_type": "stream",
     "text": [
      "Similar stores to Eva B:\n",
      "['Hadio', 'KILOFripe', 'Marché Floh']\n"
     ]
    }
   ],
   "source": [
    "print(\"Similar stores to Eva B:\")\n",
    "print(recommend_similar_stores(reviewed_data, \"Eva B\"))"
   ]
  },
  {
   "cell_type": "markdown",
   "metadata": {},
   "source": [
    "### 2. Location-Based Recommendation (Find Nearby Stores)"
   ]
  },
  {
   "cell_type": "code",
   "execution_count": 9,
   "metadata": {},
   "outputs": [],
   "source": [
    "from geopy.distance import geodesic\n",
    "\n",
    "# Function to recommend stores near a given location\n",
    "def recommend_nearby_stores(df,lat, lon, top_n=3):\n",
    "    df[\"distance_km\"] = df.apply(lambda row: geodesic((lat, lon), (row[\"latitude\"], row[\"longitude\"])).km, axis=1)\n",
    "    df_sorted = df.sort_values(by=\"distance_km\")\n",
    "    \n",
    "    # Exclude the first result if its distance is 0 (same location)\n",
    "    df_filtered = df_sorted[df_sorted[\"distance_km\"] > 0]\n",
    "\n",
    "    return df_filtered[[\"store_name\", \"category\", \"neighborhood\", \"distance_km\"]].head(top_n)\n"
   ]
  },
  {
   "cell_type": "code",
   "execution_count": 11,
   "metadata": {},
   "outputs": [
    {
     "name": "stdout",
     "output_type": "stream",
     "text": [
      "Nearby Stores:\n"
     ]
    },
    {
     "data": {
      "text/html": [
       "<div>\n",
       "<style scoped>\n",
       "    .dataframe tbody tr th:only-of-type {\n",
       "        vertical-align: middle;\n",
       "    }\n",
       "\n",
       "    .dataframe tbody tr th {\n",
       "        vertical-align: top;\n",
       "    }\n",
       "\n",
       "    .dataframe thead th {\n",
       "        text-align: right;\n",
       "    }\n",
       "</style>\n",
       "<table border=\"1\" class=\"dataframe\">\n",
       "  <thead>\n",
       "    <tr style=\"text-align: right;\">\n",
       "      <th></th>\n",
       "      <th>store_name</th>\n",
       "      <th>category</th>\n",
       "      <th>neighborhood</th>\n",
       "      <th>distance_km</th>\n",
       "    </tr>\n",
       "  </thead>\n",
       "  <tbody>\n",
       "    <tr>\n",
       "      <th>10</th>\n",
       "      <td>La Pompadour Boutique</td>\n",
       "      <td>Restored &amp; Upcycled</td>\n",
       "      <td>Mile-End</td>\n",
       "      <td>0.012075</td>\n",
       "    </tr>\n",
       "    <tr>\n",
       "      <th>9</th>\n",
       "      <td>Citizen Vintage</td>\n",
       "      <td>Restored &amp; Upcycled</td>\n",
       "      <td>Mile-End</td>\n",
       "      <td>0.039384</td>\n",
       "    </tr>\n",
       "    <tr>\n",
       "      <th>11</th>\n",
       "      <td>Covet Vintage</td>\n",
       "      <td>Restored &amp; Upcycled</td>\n",
       "      <td>Mile-End</td>\n",
       "      <td>0.072927</td>\n",
       "    </tr>\n",
       "  </tbody>\n",
       "</table>\n",
       "</div>"
      ],
      "text/plain": [
       "               store_name             category neighborhood  distance_km\n",
       "10  La Pompadour Boutique  Restored & Upcycled     Mile-End     0.012075\n",
       "9         Citizen Vintage  Restored & Upcycled     Mile-End     0.039384\n",
       "11          Covet Vintage  Restored & Upcycled     Mile-End     0.072927"
      ]
     },
     "execution_count": 11,
     "metadata": {},
     "output_type": "execute_result"
    }
   ],
   "source": [
    "# Example: Recommend stores near a user at (40.7130, -74.0065)\n",
    "print(\"Nearby Stores:\")\n",
    "recommend_nearby_stores(reviewed_data, reviewed_data.latitude[0] ,reviewed_data.longitude[0])"
   ]
  },
  {
   "cell_type": "code",
   "execution_count": null,
   "metadata": {},
   "outputs": [],
   "source": []
  },
  {
   "cell_type": "code",
   "execution_count": null,
   "metadata": {},
   "outputs": [],
   "source": []
  }
 ],
 "metadata": {
  "kernelspec": {
   "display_name": ".venv",
   "language": "python",
   "name": "python3"
  },
  "language_info": {
   "codemirror_mode": {
    "name": "ipython",
    "version": 3
   },
   "file_extension": ".py",
   "mimetype": "text/x-python",
   "name": "python",
   "nbconvert_exporter": "python",
   "pygments_lexer": "ipython3",
   "version": "3.8.2"
  }
 },
 "nbformat": 4,
 "nbformat_minor": 2
}
